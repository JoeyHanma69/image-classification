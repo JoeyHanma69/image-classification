{
 "cells": [
  {
   "cell_type": "code",
   "execution_count": 20,
   "id": "81c3cf38",
   "metadata": {},
   "outputs": [
    {
     "name": "stderr",
     "output_type": "stream",
     "text": [
      "YOLOv5  v7.0-411-gf4d8a84c Python-3.12.6 torch-2.4.1+cpu CPU\n",
      "\n",
      "Fusing layers... \n",
      "YOLOv5s summary: 213 layers, 7225885 parameters, 0 gradients, 16.4 GFLOPs\n",
      "Adding AutoShape... \n"
     ]
    }
   ],
   "source": [
    "import torch\n",
    "\n",
    "# Load YOLOv5 model (pre-trained on COCO dataset)\n",
    "model = torch.hub.load('./', 'yolov5s', source='local')  "
   ]
  },
  {
   "cell_type": "code",
   "execution_count": 21,
   "id": "a77e9ff8",
   "metadata": {},
   "outputs": [],
   "source": [
    "import cv2\n",
    "import numpy as np\n",
    "from IPython.display import display, Image\n",
    "from pathlib import Path"
   ]
  },
  {
   "cell_type": "code",
   "execution_count": 22,
   "id": "c09c979b",
   "metadata": {},
   "outputs": [],
   "source": [
    "def detect_humans_from_video(video_path, save_output=False, output_path='output.mp4'):\n",
    "    cap = cv2.VideoCapture(video_path)\n",
    "    \n",
    "    if not cap.isOpened():\n",
    "        print(\"Error: Could not open video.\")\n",
    "        return\n",
    "\n",
    "    # Get the width and height of the video frame\n",
    "    frame_width = int(cap.get(cv2.CAP_PROP_FRAME_WIDTH))\n",
    "    frame_height = int(cap.get(cv2.CAP_PROP_FRAME_HEIGHT))\n",
    "\n",
    "    if save_output:\n",
    "        out = cv2.VideoWriter(output_path, cv2.VideoWriter_fourcc(*'mp4v'), 20.0, (frame_width, frame_height))\n",
    "\n",
    "    while True:\n",
    "        ret, frame = cap.read()\n",
    "        if not ret:\n",
    "            break\n",
    "\n",
    "        # Perform inference\n",
    "        results = model(frame)\n",
    "\n",
    "        # Filter only 'person' class\n",
    "        results = results.pandas().xyxy[0]\n",
    "        persons = results[results['name'] == 'person']\n",
    "\n",
    "        # Draw bounding boxes for detected persons\n",
    "        for index, row in persons.iterrows():\n",
    "            x1, y1, x2, y2 = int(row['xmin']), int(row['ymin']), int(row['xmax']), int(row['ymax'])\n",
    "            label = row['name']\n",
    "            confidence = row['confidence']\n",
    "\n",
    "            # Draw rectangle\n",
    "            cv2.rectangle(frame, (x1, y1), (x2, y2), (0, 255, 0), 2)\n",
    "            cv2.putText(frame, f'{label} {confidence:.2f}', (x1, y1 - 10), cv2.FONT_HERSHEY_SIMPLEX, 0.5, (0, 255, 0), 2)\n",
    "\n",
    "        if save_output:\n",
    "            out.write(frame)\n",
    "\n",
    "        # Display the resulting frame (real-time detection)\n",
    "        cv2.imshow('YOLOv5 Human Detection', frame)\n",
    "\n",
    "        # Press 'q' to exit\n",
    "        if cv2.waitKey(1) & 0xFF == ord('q'):\n",
    "            break\n",
    "\n",
    "    cap.release()\n",
    "    if save_output:\n",
    "        out.release()\n",
    "    cv2.destroyAllWindows()\n"
   ]
  },
  {
   "cell_type": "code",
   "execution_count": 23,
   "id": "aef6325e",
   "metadata": {},
   "outputs": [
    {
     "name": "stdout",
     "output_type": "stream",
     "text": [
      "Error: Could not open video.\n"
     ]
    }
   ],
   "source": [
    "video_path = './854181-hd_1920_1080_25fps.avi'\n",
    "detect_humans_from_video(video_path, save_output=True, output_path='output.mp4')"
   ]
  }
 ],
 "metadata": {
  "kernelspec": {
   "display_name": "Python 3",
   "language": "python",
   "name": "python3"
  },
  "language_info": {
   "codemirror_mode": {
    "name": "ipython",
    "version": 3
   },
   "file_extension": ".py",
   "mimetype": "text/x-python",
   "name": "python",
   "nbconvert_exporter": "python",
   "pygments_lexer": "ipython3",
   "version": "3.12.6"
  }
 },
 "nbformat": 4,
 "nbformat_minor": 5
}
